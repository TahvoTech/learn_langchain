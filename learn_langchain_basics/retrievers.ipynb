{
 "cells": [
  {
   "cell_type": "markdown",
   "metadata": {},
   "source": [
    "# Retrievers\n",
    "\n",
    "Retrievers are Langchain chain components that allow you to retrieve documents using an unstructured query.\n",
    "\n",
    "Find a movie plot about a robot that wants to be human.\n",
    "\n",
    "Documents are any unstructured text that you want to retrieve. A retriever often uses a vector store as its underlying data structure.\n",
    "\n",
    "Retrievers are a key component for creating models that can take advantage of Retrieval Augmented Generation (RAG).\n",
    "\n",
    "Previously, you loaded embeddings and created a vector index of Movie plots - in this example, the movie plots are the documents, and a retriever could be used to give a model context.\n",
    "\n",
    "In this lesson, you will create a retriever to retrieve documents from the movie plots vector index.\n",
    "\n",
    "### Neo4jVector\n",
    "\n",
    "The Neo4jVector is a Langchain vector store that uses a Neo4j database as the underlying data structure.\n",
    "\n",
    "You can use the Neo4jVector to generate embeddings, store them in the database and retrieve them.\n",
    "Querying a vector index\n",
    "\n",
    "Review the following code that creates a Neo4jVector from the moviePlots index you created."
   ]
  },
  {
   "cell_type": "code",
   "execution_count": null,
   "metadata": {},
   "outputs": [],
   "source": [
    "import os\n",
    "from langchain_cohere import CohereEmbeddings\n",
    "from langchain_neo4j import Neo4jGraph, Neo4jVector\n",
    "\n",
    "embedding_provider = CohereEmbeddings(\n",
    "    cohere_api_key=os.getenv(\"COHERE_API_KEY\"),\n",
    ")\n",
    "\n",
    "graph = Neo4jGraph(\n",
    "    url=os.getenv(\"NEO4J_URI\"),\n",
    "    username=os.getenv(\"NEO4J_USERNAME\"),\n",
    "    password=os.getenv(\"NEO4J_PASSWORD\")\n",
    ")\n",
    "\n",
    "movie_plot_vector = Neo4jVector.from_existing_index(\n",
    "    embedding_provider,\n",
    "    graph=graph,\n",
    "    index_name=\"moviePlots\",\n",
    "    embedding_node_property=\"plotEmbedding\",\n",
    "    text_node_property=\"plot\",\n",
    ")\n",
    "\n",
    "result = movie_plot_vector.similarity_search(\"A movie where aliens land and attack earth.\")\n",
    "for doc in result:\n",
    "    print(doc.metadata[\"title\"], \"-\", doc.page_content)"
   ]
  }
 ],
 "metadata": {
  "kernelspec": {
   "display_name": "learn_langchain-env",
   "language": "python",
   "name": "python3"
  },
  "language_info": {
   "name": "python",
   "version": "3.9.21"
  }
 },
 "nbformat": 4,
 "nbformat_minor": 2
}
