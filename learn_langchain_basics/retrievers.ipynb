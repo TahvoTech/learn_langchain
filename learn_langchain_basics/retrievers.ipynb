{
 "cells": [
  {
   "cell_type": "markdown",
   "metadata": {},
   "source": [
    "# Retrievers\n",
    "\n",
    "Retrievers are Langchain chain components that allow you to retrieve documents using an unstructured query.\n",
    "\n",
    "Find a movie plot about a robot that wants to be human.\n",
    "\n",
    "Documents are any unstructured text that you want to retrieve. A retriever often uses a vector store as its underlying data structure.\n",
    "\n",
    "Retrievers are a key component for creating models that can take advantage of Retrieval Augmented Generation (RAG).\n",
    "\n",
    "Previously, you loaded embeddings and created a vector index of Movie plots - in this example, the movie plots are the documents, and a retriever could be used to give a model context.\n",
    "\n",
    "In this lesson, you will create a retriever to retrieve documents from the movie plots vector index.\n",
    "\n",
    "### Neo4jVector\n",
    "\n",
    "The Neo4jVector is a Langchain vector store that uses a Neo4j database as the underlying data structure.\n",
    "\n",
    "You can use the Neo4jVector to generate embeddings, store them in the database and retrieve them.\n",
    "Querying a vector index\n",
    "\n",
    "Review the following code that creates a Neo4jVector from the moviePlots index you created."
   ]
  },
  {
   "cell_type": "code",
   "execution_count": 3,
   "metadata": {},
   "outputs": [
    {
     "ename": "ValueError",
     "evalue": "The provided embedding function and vector index dimensions do not match.\nEmbedding function dimension: 4096\nVector index dimension: 1536",
     "output_type": "error",
     "traceback": [
      "\u001b[1;31m---------------------------------------------------------------------------\u001b[0m",
      "\u001b[1;31mValueError\u001b[0m                                Traceback (most recent call last)",
      "Cell \u001b[1;32mIn[3], line 22\u001b[0m\n\u001b[0;32m     10\u001b[0m embedding_provider \u001b[38;5;241m=\u001b[39m CohereEmbeddings(\n\u001b[0;32m     11\u001b[0m     cohere_api_key\u001b[38;5;241m=\u001b[39mcohere_api_key,\n\u001b[0;32m     12\u001b[0m     model\u001b[38;5;241m=\u001b[39m\u001b[38;5;124m\"\u001b[39m\u001b[38;5;124membed-english-v2.0\u001b[39m\u001b[38;5;124m\"\u001b[39m\n\u001b[0;32m     13\u001b[0m \n\u001b[0;32m     14\u001b[0m )\n\u001b[0;32m     16\u001b[0m graph \u001b[38;5;241m=\u001b[39m Neo4jGraph(\n\u001b[0;32m     17\u001b[0m     url\u001b[38;5;241m=\u001b[39mos\u001b[38;5;241m.\u001b[39mgetenv(\u001b[38;5;124m\"\u001b[39m\u001b[38;5;124mNEO4J_URI\u001b[39m\u001b[38;5;124m\"\u001b[39m),\n\u001b[0;32m     18\u001b[0m     username\u001b[38;5;241m=\u001b[39mos\u001b[38;5;241m.\u001b[39mgetenv(\u001b[38;5;124m\"\u001b[39m\u001b[38;5;124mNEO4J_USERNAME\u001b[39m\u001b[38;5;124m\"\u001b[39m),\n\u001b[0;32m     19\u001b[0m     password\u001b[38;5;241m=\u001b[39mos\u001b[38;5;241m.\u001b[39mgetenv(\u001b[38;5;124m\"\u001b[39m\u001b[38;5;124mNEO4J_PASSWORD\u001b[39m\u001b[38;5;124m\"\u001b[39m)\n\u001b[0;32m     20\u001b[0m )\n\u001b[1;32m---> 22\u001b[0m movie_plot_vector \u001b[38;5;241m=\u001b[39m \u001b[43mNeo4jVector\u001b[49m\u001b[38;5;241;43m.\u001b[39;49m\u001b[43mfrom_existing_index\u001b[49m\u001b[43m(\u001b[49m\n\u001b[0;32m     23\u001b[0m \u001b[43m    \u001b[49m\u001b[43membedding_provider\u001b[49m\u001b[43m,\u001b[49m\n\u001b[0;32m     24\u001b[0m \u001b[43m    \u001b[49m\u001b[43mgraph\u001b[49m\u001b[38;5;241;43m=\u001b[39;49m\u001b[43mgraph\u001b[49m\u001b[43m,\u001b[49m\n\u001b[0;32m     25\u001b[0m \u001b[43m    \u001b[49m\u001b[43mindex_name\u001b[49m\u001b[38;5;241;43m=\u001b[39;49m\u001b[38;5;124;43m\"\u001b[39;49m\u001b[38;5;124;43mmoviePlots\u001b[39;49m\u001b[38;5;124;43m\"\u001b[39;49m\u001b[43m,\u001b[49m\n\u001b[0;32m     26\u001b[0m \u001b[43m    \u001b[49m\u001b[43membedding_node_property\u001b[49m\u001b[38;5;241;43m=\u001b[39;49m\u001b[38;5;124;43m\"\u001b[39;49m\u001b[38;5;124;43mplotEmbedding\u001b[39;49m\u001b[38;5;124;43m\"\u001b[39;49m\u001b[43m,\u001b[49m\n\u001b[0;32m     27\u001b[0m \u001b[43m    \u001b[49m\u001b[43mtext_node_property\u001b[49m\u001b[38;5;241;43m=\u001b[39;49m\u001b[38;5;124;43m\"\u001b[39;49m\u001b[38;5;124;43mplot\u001b[39;49m\u001b[38;5;124;43m\"\u001b[39;49m\u001b[43m,\u001b[49m\n\u001b[0;32m     28\u001b[0m \u001b[43m)\u001b[49m\n\u001b[0;32m     30\u001b[0m result \u001b[38;5;241m=\u001b[39m movie_plot_vector\u001b[38;5;241m.\u001b[39msimilarity_search(\u001b[38;5;124m\"\u001b[39m\u001b[38;5;124mA movie where aliens land and attack earth.\u001b[39m\u001b[38;5;124m\"\u001b[39m)\n\u001b[0;32m     31\u001b[0m \u001b[38;5;28;01mfor\u001b[39;00m doc \u001b[38;5;129;01min\u001b[39;00m result:\n",
      "File \u001b[1;32mc:\\Users\\jarmo\\anaconda3\\envs\\learn_langchain-env\\lib\\site-packages\\langchain_neo4j\\vectorstores\\neo4j_vector.py:1404\u001b[0m, in \u001b[0;36mNeo4jVector.from_existing_index\u001b[1;34m(cls, embedding, index_name, search_type, keyword_index_name, embedding_dimension, **kwargs)\u001b[0m\n\u001b[0;32m   1402\u001b[0m \u001b[38;5;66;03m# Check if embedding function and vector index dimensions match\u001b[39;00m\n\u001b[0;32m   1403\u001b[0m \u001b[38;5;28;01mif\u001b[39;00m embedding_dimension \u001b[38;5;129;01mand\u001b[39;00m \u001b[38;5;129;01mnot\u001b[39;00m store\u001b[38;5;241m.\u001b[39membedding_dimension \u001b[38;5;241m==\u001b[39m embedding_dimension:\n\u001b[1;32m-> 1404\u001b[0m     \u001b[38;5;28;01mraise\u001b[39;00m \u001b[38;5;167;01mValueError\u001b[39;00m(\n\u001b[0;32m   1405\u001b[0m         \u001b[38;5;124m\"\u001b[39m\u001b[38;5;124mThe provided embedding function and vector index \u001b[39m\u001b[38;5;124m\"\u001b[39m\n\u001b[0;32m   1406\u001b[0m         \u001b[38;5;124m\"\u001b[39m\u001b[38;5;124mdimensions do not match.\u001b[39m\u001b[38;5;130;01m\\n\u001b[39;00m\u001b[38;5;124m\"\u001b[39m\n\u001b[0;32m   1407\u001b[0m         \u001b[38;5;124mf\u001b[39m\u001b[38;5;124m\"\u001b[39m\u001b[38;5;124mEmbedding function dimension: \u001b[39m\u001b[38;5;132;01m{\u001b[39;00mstore\u001b[38;5;241m.\u001b[39membedding_dimension\u001b[38;5;132;01m}\u001b[39;00m\u001b[38;5;130;01m\\n\u001b[39;00m\u001b[38;5;124m\"\u001b[39m\n\u001b[0;32m   1408\u001b[0m         \u001b[38;5;124mf\u001b[39m\u001b[38;5;124m\"\u001b[39m\u001b[38;5;124mVector index dimension: \u001b[39m\u001b[38;5;132;01m{\u001b[39;00membedding_dimension\u001b[38;5;132;01m}\u001b[39;00m\u001b[38;5;124m\"\u001b[39m\n\u001b[0;32m   1409\u001b[0m     )\n\u001b[0;32m   1411\u001b[0m \u001b[38;5;28;01mif\u001b[39;00m search_type \u001b[38;5;241m==\u001b[39m SearchType\u001b[38;5;241m.\u001b[39mHYBRID:\n\u001b[0;32m   1412\u001b[0m     fts_node_label \u001b[38;5;241m=\u001b[39m store\u001b[38;5;241m.\u001b[39mretrieve_existing_fts_index()\n",
      "\u001b[1;31mValueError\u001b[0m: The provided embedding function and vector index dimensions do not match.\nEmbedding function dimension: 4096\nVector index dimension: 1536"
     ]
    }
   ],
   "source": [
    "import os\n",
    "from langchain_cohere import CohereEmbeddings\n",
    "from langchain_neo4j import Neo4jGraph, Neo4jVector\n",
    "from dotenv import load_dotenv\n",
    "\n",
    "load_dotenv()\n",
    "\n",
    "cohere_api_key = os.getenv(\"COHERE_API_KEY\")\n",
    "\n",
    "embedding_provider = CohereEmbeddings(\n",
    "    cohere_api_key=cohere_api_key,\n",
    "    model=\"embed-english-v2.0\"\n",
    "\n",
    ")\n",
    "\n",
    "graph = Neo4jGraph(\n",
    "    url=os.getenv(\"NEO4J_URI\"),\n",
    "    username=os.getenv(\"NEO4J_USERNAME\"),\n",
    "    password=os.getenv(\"NEO4J_PASSWORD\")\n",
    ")\n",
    "\n",
    "movie_plot_vector = Neo4jVector.from_existing_index(\n",
    "    embedding_provider,\n",
    "    graph=graph,\n",
    "    index_name=\"moviePlots\",\n",
    "    embedding_node_property=\"plotEmbedding\",\n",
    "    text_node_property=\"plot\",\n",
    ")\n",
    "\n",
    "result = movie_plot_vector.similarity_search(\"A movie where aliens land and attack earth.\")\n",
    "for doc in result:\n",
    "    print(doc.metadata[\"title\"], \"-\", doc.page_content)"
   ]
  },
  {
   "cell_type": "code",
   "execution_count": null,
   "metadata": {},
   "outputs": [],
   "source": []
  }
 ],
 "metadata": {
  "kernelspec": {
   "display_name": "learn_langchain-env",
   "language": "python",
   "name": "python3"
  },
  "language_info": {
   "codemirror_mode": {
    "name": "ipython",
    "version": 3
   },
   "file_extension": ".py",
   "mimetype": "text/x-python",
   "name": "python",
   "nbconvert_exporter": "python",
   "pygments_lexer": "ipython3",
   "version": "3.9.21"
  }
 },
 "nbformat": 4,
 "nbformat_minor": 2
}
