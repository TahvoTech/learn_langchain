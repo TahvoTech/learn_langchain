{
 "cells": [
  {
   "cell_type": "code",
   "execution_count": 9,
   "metadata": {},
   "outputs": [
    {
     "name": "stdout",
     "output_type": "stream",
     "text": [
      "content='Neo4j is a graph database management system that is used to manage and query highly connected data. It is a powerful tool for handling complex relationships and interconnected data structures.\\n\\nHere are some key characteristics and features of Neo4j:\\n- **Graph Data Model:** Neo4j is based on a graph data model, where data is represented as nodes (entities) and relationships between them. This model is well-suited for capturing complex relationships and networks.\\n- **Native Graph Storage:** Unlike traditional relational databases, Neo4j stores data in a graph-native format, which allows for efficient traversal and querying of connected data.\\n- **Cypher Query Language:** It introduces Cypher, a declarative query language that allows developers to describe patterns in the graph and retrieve data using a syntax similar to SQL but designed for graph structures.\\n- **Scalability:** Neo4j is designed to handle large-scale graphs with billions of nodes and relationships, making it suitable for big data applications.\\n- **ACID Compliance:** It provides ACID (Atomicity, Consistency, Isolation, Durability) compliance, ensuring data integrity and reliability.\\n- **Real-Time Performance:** The database offers real-time performance for querying and updating graph data, making it suitable for interactive applications.\\n- **Community and Ecosystem:** Neo4j has a large and active community, and it provides an ecosystem of tools, libraries, and integrations for various programming languages and platforms.\\n- **Use Cases:** Neo4j is widely used in various domains, including social networking, recommendation engines, fraud detection, knowledge graphs, network and IT operations, and master data management.\\n\\nNeo4j is particularly useful when dealing with complex relationships and interconnected data, where traditional relational databases might struggle to provide efficient querying and analysis. It is an excellent choice for building modern applications that require handling highly connected datasets.' additional_kwargs={'id': 'b7a77033-ef08-4c6e-ace0-72eacb63398a', 'finish_reason': 'COMPLETE', 'content': 'Neo4j is a graph database management system that is used to manage and query highly connected data. It is a powerful tool for handling complex relationships and interconnected data structures.\\n\\nHere are some key characteristics and features of Neo4j:\\n- **Graph Data Model:** Neo4j is based on a graph data model, where data is represented as nodes (entities) and relationships between them. This model is well-suited for capturing complex relationships and networks.\\n- **Native Graph Storage:** Unlike traditional relational databases, Neo4j stores data in a graph-native format, which allows for efficient traversal and querying of connected data.\\n- **Cypher Query Language:** It introduces Cypher, a declarative query language that allows developers to describe patterns in the graph and retrieve data using a syntax similar to SQL but designed for graph structures.\\n- **Scalability:** Neo4j is designed to handle large-scale graphs with billions of nodes and relationships, making it suitable for big data applications.\\n- **ACID Compliance:** It provides ACID (Atomicity, Consistency, Isolation, Durability) compliance, ensuring data integrity and reliability.\\n- **Real-Time Performance:** The database offers real-time performance for querying and updating graph data, making it suitable for interactive applications.\\n- **Community and Ecosystem:** Neo4j has a large and active community, and it provides an ecosystem of tools, libraries, and integrations for various programming languages and platforms.\\n- **Use Cases:** Neo4j is widely used in various domains, including social networking, recommendation engines, fraud detection, knowledge graphs, network and IT operations, and master data management.\\n\\nNeo4j is particularly useful when dealing with complex relationships and interconnected data, where traditional relational databases might struggle to provide efficient querying and analysis. It is an excellent choice for building modern applications that require handling highly connected datasets.', 'token_count': {'input_tokens': 207.0, 'output_tokens': 381.0}} response_metadata={'id': 'b7a77033-ef08-4c6e-ace0-72eacb63398a', 'finish_reason': 'COMPLETE', 'content': 'Neo4j is a graph database management system that is used to manage and query highly connected data. It is a powerful tool for handling complex relationships and interconnected data structures.\\n\\nHere are some key characteristics and features of Neo4j:\\n- **Graph Data Model:** Neo4j is based on a graph data model, where data is represented as nodes (entities) and relationships between them. This model is well-suited for capturing complex relationships and networks.\\n- **Native Graph Storage:** Unlike traditional relational databases, Neo4j stores data in a graph-native format, which allows for efficient traversal and querying of connected data.\\n- **Cypher Query Language:** It introduces Cypher, a declarative query language that allows developers to describe patterns in the graph and retrieve data using a syntax similar to SQL but designed for graph structures.\\n- **Scalability:** Neo4j is designed to handle large-scale graphs with billions of nodes and relationships, making it suitable for big data applications.\\n- **ACID Compliance:** It provides ACID (Atomicity, Consistency, Isolation, Durability) compliance, ensuring data integrity and reliability.\\n- **Real-Time Performance:** The database offers real-time performance for querying and updating graph data, making it suitable for interactive applications.\\n- **Community and Ecosystem:** Neo4j has a large and active community, and it provides an ecosystem of tools, libraries, and integrations for various programming languages and platforms.\\n- **Use Cases:** Neo4j is widely used in various domains, including social networking, recommendation engines, fraud detection, knowledge graphs, network and IT operations, and master data management.\\n\\nNeo4j is particularly useful when dealing with complex relationships and interconnected data, where traditional relational databases might struggle to provide efficient querying and analysis. It is an excellent choice for building modern applications that require handling highly connected datasets.', 'token_count': {'input_tokens': 207.0, 'output_tokens': 381.0}} id='run-1694d78e-dafc-414c-a160-1cea491226f4-0' usage_metadata={'input_tokens': 207, 'output_tokens': 381, 'total_tokens': 588}\n"
     ]
    }
   ],
   "source": [
    "import os # Import the os module to access environment variables and execute system commands\n",
    "from langchain_cohere import ChatCohere # Import the ChatCohere class from the langchain_cohere module\n",
    "import config  # Import the configuration file to access the Cohere API key from the environment variable\n",
    "\n",
    "# Set the Cohere API key from the configuration file as an environment variable\n",
    "os.environ[\"COHERE_API_KEY\"] = config.COHERE_API_KEY\n",
    "\n",
    "# Retrieve the Cohere API key from the environment variable\n",
    "cohere_api_key = os.getenv(\"COHERE_API_KEY\")\n",
    "\n",
    "# Initialize the ChatCohere model with the API key\n",
    "llm = ChatCohere(cohere_api_key=cohere_api_key)\n",
    "\n",
    "# Invoke the model with a query about Neo4j\n",
    "response = llm.invoke(\"What is Neo4j?\")\n",
    "\n",
    "# Print the response from the model\n",
    "print(response)"
   ]
  },
  {
   "cell_type": "code",
   "execution_count": null,
   "metadata": {},
   "outputs": [],
   "source": []
  }
 ],
 "metadata": {
  "kernelspec": {
   "display_name": "learn_langchain-env",
   "language": "python",
   "name": "python3"
  },
  "language_info": {
   "codemirror_mode": {
    "name": "ipython",
    "version": 3
   },
   "file_extension": ".py",
   "mimetype": "text/x-python",
   "name": "python",
   "nbconvert_exporter": "python",
   "pygments_lexer": "ipython3",
   "version": "3.9.21"
  }
 },
 "nbformat": 4,
 "nbformat_minor": 2
}
