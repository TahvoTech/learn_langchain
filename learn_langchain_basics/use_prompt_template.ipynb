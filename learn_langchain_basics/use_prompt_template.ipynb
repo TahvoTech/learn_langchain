{
 "cells": [
  {
   "cell_type": "code",
   "execution_count": 4,
   "metadata": {},
   "outputs": [],
   "source": [
    "import os # Import the os module to access environment variables and execute system commands\n",
    "from langchain_cohere import ChatCohere # Import the ChatCohere class from the langchain_cohere module\n",
    "from dotenv import load_dotenv # Import the load_dotenv function from the dotenv module\n",
    "from langchain.prompts import PromptTemplate # Import the PromptTemplate class from the langchain.prompts module so that you can use the predefined prompts\n",
    "\n",
    "# Load environment variables from .env file\n",
    "load_dotenv()\n",
    "\n",
    "# Retrieve the Cohere API key from the environment variable\n",
    "cohere_api_key = os.getenv(\"COHERE_API_KEY\")\n",
    "\n",
    "# Initialize the ChatCohere model with the API key\n",
    "llm = ChatCohere(cohere_api_key=cohere_api_key)"
   ]
  },
  {
   "cell_type": "code",
   "execution_count": 5,
   "metadata": {},
   "outputs": [
    {
     "name": "stdout",
     "output_type": "stream",
     "text": [
      "Neo4j is a graph database management system that is used to create data models that are built around relationships and connected data. It is a NoSQL database, which means it is non-relational and differs from traditional relational databases. Neo4j stores data in a graph structure, with nodes representing entities and relationships between them. This makes it well-suited for applications that involve complex relationships and connected data, such as social networks, recommendation engines, fraud detection systems, and knowledge graphs.\n",
      "\n",
      "Here are some key features and benefits of Neo4j:\n",
      "- **Native Graph Storage:** Neo4j is designed specifically for graph data, allowing efficient storage and retrieval of nodes and relationships.\n",
      "- **ACID Compliance:** It provides Atomicity, Consistency, Isolation, and Durability, ensuring reliable and consistent data handling.\n",
      "- **Cypher Query Language:** Neo4j introduced Cypher, a powerful and intuitive query language, which enables developers to express complex graph patterns and queries easily.\n",
      "- **Scalability:** It can handle large-scale graphs and provides options for horizontal scaling to distribute data across multiple machines.\n",
      "- **Agility:** The graph model in Neo4j allows for agile development and rapid prototyping, making it easier to adapt to changing data requirements.\n",
      "- **Real-time Performance:** Neo4j offers fast query response times, making it suitable for real-time applications.\n",
      "- **Community and Ecosystem:** Neo4j has a large and active community, providing extensive documentation, tutorials, and a rich ecosystem of tools and integrations.\n",
      "\n",
      "Neo4j is widely used in various industries, including finance, healthcare, e-commerce, and social media, to manage and analyze complex data relationships. It is an excellent choice for building scalable and high-performance graph-based applications.\n"
     ]
    }
   ],
   "source": [
    "# Invoke the model with a query about Neo4j\n",
    "response = llm.invoke(\"What is Neo4j?\")\n",
    "\n",
    "# Print the response from the model\n",
    "print(response.content)"
   ]
  },
  {
   "cell_type": "code",
   "execution_count": null,
   "metadata": {},
   "outputs": [
    {
     "name": "stdout",
     "output_type": "stream",
     "text": [
      "content=\"Apples, you say? Well, me old china, you're in luck! I've got some proper tasty *Pears* 'ere, fresh from the orchard, and I'll give you the gen on 'em.\\n\\nThese apples, or 'Adam and Eves' as we like to call 'em, are as red as a post box and as juicy as a plum. Each bite is like a trip down the East End, a real treat for the taste buds. You'll be a right Charlie Chaplin if you don't give 'em a go!\\n\\nI'll tell ya, these apples are so sweet, they'll make your teeth sting like a wasp at a picnic. They're crisp, they're crunchy, and they'll keep the doctor away, or so they say!\\n\\nSo, if you're lookin' for a bit of a Barney Rubble, grab yerself some apples, give 'em a wash, and take a bite. You won't be left feeling Dick Turpin, that's for sure!\" additional_kwargs={'id': '395087c9-b2a4-46c2-93a3-37060aebdc75', 'finish_reason': 'COMPLETE', 'content': \"Apples, you say? Well, me old china, you're in luck! I've got some proper tasty *Pears* 'ere, fresh from the orchard, and I'll give you the gen on 'em.\\n\\nThese apples, or 'Adam and Eves' as we like to call 'em, are as red as a post box and as juicy as a plum. Each bite is like a trip down the East End, a real treat for the taste buds. You'll be a right Charlie Chaplin if you don't give 'em a go!\\n\\nI'll tell ya, these apples are so sweet, they'll make your teeth sting like a wasp at a picnic. They're crisp, they're crunchy, and they'll keep the doctor away, or so they say!\\n\\nSo, if you're lookin' for a bit of a Barney Rubble, grab yerself some apples, give 'em a wash, and take a bite. You won't be left feeling Dick Turpin, that's for sure!\", 'token_count': {'input_tokens': 247.0, 'output_tokens': 213.0}} response_metadata={'id': '395087c9-b2a4-46c2-93a3-37060aebdc75', 'finish_reason': 'COMPLETE', 'content': \"Apples, you say? Well, me old china, you're in luck! I've got some proper tasty *Pears* 'ere, fresh from the orchard, and I'll give you the gen on 'em.\\n\\nThese apples, or 'Adam and Eves' as we like to call 'em, are as red as a post box and as juicy as a plum. Each bite is like a trip down the East End, a real treat for the taste buds. You'll be a right Charlie Chaplin if you don't give 'em a go!\\n\\nI'll tell ya, these apples are so sweet, they'll make your teeth sting like a wasp at a picnic. They're crisp, they're crunchy, and they'll keep the doctor away, or so they say!\\n\\nSo, if you're lookin' for a bit of a Barney Rubble, grab yerself some apples, give 'em a wash, and take a bite. You won't be left feeling Dick Turpin, that's for sure!\", 'token_count': {'input_tokens': 247.0, 'output_tokens': 213.0}} id='run-b86efbd2-f82b-49df-a36a-e48e8f42d51e-0' usage_metadata={'input_tokens': 247, 'output_tokens': 213, 'total_tokens': 460}\n"
     ]
    }
   ],
   "source": [
    "template = PromptTemplate(template=\"\"\"\n",
    "You are a cockney fruit and vegetable seller.\n",
    "Your role is to assist your customer with their fruit and vegetable needs.\n",
    "Respond using cockney rhyming slang.\n",
    "\n",
    "Tell me about the following fruit: {fruit}\n",
    "\"\"\", input_variables=[\"fruit\"])\n",
    "\n",
    "response = llm.invoke(template.format(fruit=\"apples\"))\n",
    "\n",
    "print(response.content)"
   ]
  },
  {
   "cell_type": "code",
   "execution_count": null,
   "metadata": {},
   "outputs": [],
   "source": []
  }
 ],
 "metadata": {
  "kernelspec": {
   "display_name": "learn_langchain-env",
   "language": "python",
   "name": "python3"
  },
  "language_info": {
   "codemirror_mode": {
    "name": "ipython",
    "version": 3
   },
   "file_extension": ".py",
   "mimetype": "text/x-python",
   "name": "python",
   "nbconvert_exporter": "python",
   "pygments_lexer": "ipython3",
   "version": "3.9.21"
  }
 },
 "nbformat": 4,
 "nbformat_minor": 2
}
