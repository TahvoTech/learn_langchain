{
 "cells": [
  {
   "cell_type": "code",
   "execution_count": null,
   "metadata": {},
   "outputs": [
    {
     "name": "stdout",
     "output_type": "stream",
     "text": [
      "Neo4j is a graph database management system that is used to create, store, and manage data in a graph structure. It is a powerful tool for handling highly connected data and complex relationships, making it ideal for various applications, especially those involving social networks, recommendation engines, fraud detection, knowledge graphs, and many more.\n",
      "\n",
      "Here are some key features and characteristics of Neo4j:\n",
      "- **Graph Data Model:** Neo4j is based on a graph data model, where data is represented as nodes (entities) and relationships (connections between entities). This model allows for efficient storage and traversal of interconnected data.\n",
      "- **Native Graph Storage:** Unlike traditional relational databases, Neo4j stores data in a graph-native format, which means it can handle large-scale graphs with billions of nodes and relationships efficiently.\n",
      "- **Cypher Query Language:** It introduces Cypher, a powerful query language that allows developers to express complex graph patterns and queries in a human-readable format. Cypher makes it easy to retrieve, update, and manipulate graph data.\n",
      "- **ACID Compliance:** Neo4j guarantees ACID (Atomicity, Consistency, Isolation, Durability) compliance, ensuring data integrity and reliability in transactions.\n",
      "- **High Performance:** The database is optimized for fast queries and traversal operations, making it suitable for real-time applications.\n",
      "- **Scalability:** It offers horizontal scalability with its cluster architecture, allowing it to handle large datasets and high throughput.\n",
      "- **Community and Ecosystem:** Neo4j has a large and active community, providing extensive documentation, tutorials, and a rich ecosystem of tools and libraries.\n",
      "- **Use Cases:** Neo4j is widely used in various domains, including social networking, real-time recommendations, master data management, network and IT operations, fraud detection, and many other applications that require advanced data connectivity.\n",
      "\n",
      "Neo4j has gained popularity due to its ability to handle complex data relationships efficiently and provide intuitive ways to query and analyze graph data. It is often used in scenarios where traditional relational databases fall short in managing highly connected datasets.\n"
     ]
    }
   ],
   "source": [
    "import os # Import the os module to access environment variables and execute system commands\n",
    "from langchain_cohere import ChatCohere # Import the ChatCohere class from the langchain_cohere module\n",
    "from dotenv import load_dotenv # Import the load_dotenv function from the dotenv module\n",
    "from langchain.promts import PromptTemplate # Import the PromptTemplate class from the langchain.prompts module so that you can use the predefined prompts\n",
    "\n",
    "# Load environment variables from .env file\n",
    "load_dotenv()\n",
    "\n",
    "# Set the Cohere API key from the configuration file as an environment variable\n",
    "os.environ[\"COHERE_API_KEY\"] = config.COHERE_API_KEY\n",
    "\n",
    "# Retrieve the Cohere API key from the environment variable\n",
    "cohere_api_key = os.getenv(\"COHERE_API_KEY\")\n",
    "\n",
    "# Initialize the ChatCohere model with the API key\n",
    "llm = ChatCohere(cohere_api_key=cohere_api_key)\n",
    "\n",
    "# Invoke the model with a query about Neo4j\n",
    "response = llm.invoke(\"What is Neo4j?\")\n",
    "\n",
    "# Print the response from the model\n",
    "print(response.content)"
   ]
  },
  {
   "cell_type": "code",
   "execution_count": null,
   "metadata": {},
   "outputs": [
    {
     "name": "stdout",
     "output_type": "stream",
     "text": [
      "content='2.' additional_kwargs={'id': '290e4b61-6fe7-4095-8ce9-c80904bf43a2', 'finish_reason': 'COMPLETE', 'content': '2.', 'token_count': {'input_tokens': 210.0, 'output_tokens': 2.0}} response_metadata={'id': '290e4b61-6fe7-4095-8ce9-c80904bf43a2', 'finish_reason': 'COMPLETE', 'content': '2.', 'token_count': {'input_tokens': 210.0, 'output_tokens': 2.0}} id='run-f282abd9-d801-4ee7-8fee-c6585a16b6aa-0' usage_metadata={'input_tokens': 210, 'output_tokens': 2, 'total_tokens': 212}\n"
     ]
    }
   ],
   "source": [
    "\n"
   ]
  },
  {
   "cell_type": "code",
   "execution_count": null,
   "metadata": {},
   "outputs": [],
   "source": []
  }
 ],
 "metadata": {
  "kernelspec": {
   "display_name": "learn_langchain-env",
   "language": "python",
   "name": "python3"
  },
  "language_info": {
   "codemirror_mode": {
    "name": "ipython",
    "version": 3
   },
   "file_extension": ".py",
   "mimetype": "text/x-python",
   "name": "python",
   "nbconvert_exporter": "python",
   "pygments_lexer": "ipython3",
   "version": "3.9.21"
  }
 },
 "nbformat": 4,
 "nbformat_minor": 2
}
