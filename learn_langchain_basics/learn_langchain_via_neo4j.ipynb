{
 "cells": [
  {
   "cell_type": "code",
   "execution_count": null,
   "metadata": {},
   "outputs": [
    {
     "name": "stdout",
     "output_type": "stream",
     "text": [
      "content='Neo4j is a graph database management system that is used to create, store, and manage data in a graph structure. It is a powerful tool for handling highly connected data and complex relationships, making it ideal for various applications, especially those involving social networks, recommendation engines, fraud detection, knowledge graphs, and many more.\\n\\nHere are some key characteristics and features of Neo4j:\\n\\n- **Graph Data Model:** Neo4j uses a property graph model, where data is represented as nodes (entities) connected by relationships. Each node and relationship can have properties (key-value pairs) associated with them.\\n- **Native Graph Storage:** Unlike traditional relational databases, Neo4j stores and manages data in its native graph format, which allows for efficient traversal and query performance.\\n- **Cypher Query Language:** It introduces Cypher, a declarative graph query language that allows developers to describe patterns in graphs and retrieve relevant data. Cypher is known for its human-readable syntax.\\n- **ACID Compliance:** Neo4j guarantees Atomicity, Consistency, Isolation, and Durability, ensuring data integrity and reliability.\\n- **Scalability:** The database can handle large-scale graphs with billions of nodes and relationships, and it provides various scaling options, including horizontal scaling with clustering.\\n- **Community and Ecosystem:** Neo4j has a large and active community, and it offers extensive documentation, tutorials, and a rich ecosystem of tools, libraries, and integrations.\\n- **Use Cases:** Neo4j is widely used in various domains, including social networking, real-time recommendations, master data management, network and IT operations, supply chain management, and more.\\n\\nNeo4j has gained popularity due to its ability to handle complex data modeling and its performance in querying and analyzing connected data. It is particularly useful when the relationships between data points are as important as the data itself. The graph database approach provided by Neo4j offers a flexible and scalable way to model and query complex data structures.' additional_kwargs={'id': 'f20de5dd-977b-4297-8e23-37154b5c0ac3', 'finish_reason': 'COMPLETE', 'content': 'Neo4j is a graph database management system that is used to create, store, and manage data in a graph structure. It is a powerful tool for handling highly connected data and complex relationships, making it ideal for various applications, especially those involving social networks, recommendation engines, fraud detection, knowledge graphs, and many more.\\n\\nHere are some key characteristics and features of Neo4j:\\n\\n- **Graph Data Model:** Neo4j uses a property graph model, where data is represented as nodes (entities) connected by relationships. Each node and relationship can have properties (key-value pairs) associated with them.\\n- **Native Graph Storage:** Unlike traditional relational databases, Neo4j stores and manages data in its native graph format, which allows for efficient traversal and query performance.\\n- **Cypher Query Language:** It introduces Cypher, a declarative graph query language that allows developers to describe patterns in graphs and retrieve relevant data. Cypher is known for its human-readable syntax.\\n- **ACID Compliance:** Neo4j guarantees Atomicity, Consistency, Isolation, and Durability, ensuring data integrity and reliability.\\n- **Scalability:** The database can handle large-scale graphs with billions of nodes and relationships, and it provides various scaling options, including horizontal scaling with clustering.\\n- **Community and Ecosystem:** Neo4j has a large and active community, and it offers extensive documentation, tutorials, and a rich ecosystem of tools, libraries, and integrations.\\n- **Use Cases:** Neo4j is widely used in various domains, including social networking, real-time recommendations, master data management, network and IT operations, supply chain management, and more.\\n\\nNeo4j has gained popularity due to its ability to handle complex data modeling and its performance in querying and analyzing connected data. It is particularly useful when the relationships between data points are as important as the data itself. The graph database approach provided by Neo4j offers a flexible and scalable way to model and query complex data structures.', 'token_count': {'input_tokens': 207.0, 'output_tokens': 409.0}} response_metadata={'id': 'f20de5dd-977b-4297-8e23-37154b5c0ac3', 'finish_reason': 'COMPLETE', 'content': 'Neo4j is a graph database management system that is used to create, store, and manage data in a graph structure. It is a powerful tool for handling highly connected data and complex relationships, making it ideal for various applications, especially those involving social networks, recommendation engines, fraud detection, knowledge graphs, and many more.\\n\\nHere are some key characteristics and features of Neo4j:\\n\\n- **Graph Data Model:** Neo4j uses a property graph model, where data is represented as nodes (entities) connected by relationships. Each node and relationship can have properties (key-value pairs) associated with them.\\n- **Native Graph Storage:** Unlike traditional relational databases, Neo4j stores and manages data in its native graph format, which allows for efficient traversal and query performance.\\n- **Cypher Query Language:** It introduces Cypher, a declarative graph query language that allows developers to describe patterns in graphs and retrieve relevant data. Cypher is known for its human-readable syntax.\\n- **ACID Compliance:** Neo4j guarantees Atomicity, Consistency, Isolation, and Durability, ensuring data integrity and reliability.\\n- **Scalability:** The database can handle large-scale graphs with billions of nodes and relationships, and it provides various scaling options, including horizontal scaling with clustering.\\n- **Community and Ecosystem:** Neo4j has a large and active community, and it offers extensive documentation, tutorials, and a rich ecosystem of tools, libraries, and integrations.\\n- **Use Cases:** Neo4j is widely used in various domains, including social networking, real-time recommendations, master data management, network and IT operations, supply chain management, and more.\\n\\nNeo4j has gained popularity due to its ability to handle complex data modeling and its performance in querying and analyzing connected data. It is particularly useful when the relationships between data points are as important as the data itself. The graph database approach provided by Neo4j offers a flexible and scalable way to model and query complex data structures.', 'token_count': {'input_tokens': 207.0, 'output_tokens': 409.0}} id='run-a1206531-a7f0-453c-9b79-6f92dfeeda80-0' usage_metadata={'input_tokens': 207, 'output_tokens': 409, 'total_tokens': 616}\n"
     ]
    }
   ],
   "source": [
    "import os # Import the os module to access environment variables and execute system commands\n",
    "from langchain_cohere import ChatCohere # Import the ChatCohere class from the langchain_cohere module\n",
    "import config  # Import the configuration file to access the Cohere API key from the environment variable\n",
    "\n",
    "# Set the Cohere API key from the configuration file as an environment variable\n",
    "os.environ[\"COHERE_API_KEY\"] = config.COHERE_API_KEY\n",
    "\n",
    "# Retrieve the Cohere API key from the environment variable\n",
    "cohere_api_key = os.getenv(\"COHERE_API_KEY\")\n",
    "\n",
    "# Initialize the ChatCohere model with the API key\n",
    "llm = ChatCohere(cohere_api_key=cohere_api_key)\n",
    "\n",
    "# Invoke the model with a query about Neo4j\n",
    "response = llm.invoke(\"What is Neo4j?\")\n",
    "\n",
    "# Print the response from the model\n",
    "print(response)"
   ]
  },
  {
   "cell_type": "code",
   "execution_count": null,
   "metadata": {},
   "outputs": [],
   "source": []
  }
 ],
 "metadata": {
  "kernelspec": {
   "display_name": "learn_langchain-env",
   "language": "python",
   "name": "python3"
  },
  "language_info": {
   "codemirror_mode": {
    "name": "ipython",
    "version": 3
   },
   "file_extension": ".py",
   "mimetype": "text/x-python",
   "name": "python",
   "nbconvert_exporter": "python",
   "pygments_lexer": "ipython3",
   "version": "3.9.21"
  }
 },
 "nbformat": 4,
 "nbformat_minor": 2
}
